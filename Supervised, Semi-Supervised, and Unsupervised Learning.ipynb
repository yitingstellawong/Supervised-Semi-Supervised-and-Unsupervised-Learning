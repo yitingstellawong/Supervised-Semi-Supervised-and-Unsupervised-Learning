{
 "cells": [
  {
   "cell_type": "markdown",
   "metadata": {},
   "source": [
    "Yiting Wang 4646909520"
   ]
  },
  {
   "cell_type": "markdown",
   "metadata": {},
   "source": [
    "(a)"
   ]
  },
  {
   "cell_type": "code",
   "execution_count": 2,
   "metadata": {},
   "outputs": [],
   "source": [
    "import warnings\n",
    "warnings.filterwarnings(\"ignore\")"
   ]
  },
  {
   "cell_type": "code",
   "execution_count": 3,
   "metadata": {},
   "outputs": [],
   "source": [
    "import numpy as np, pandas as pd \n",
    "data = pd.read_table('../data/wdbc.data', sep=',', header = None)\n",
    "data.columns = ['ID','class'] + ['feat%d'%i for i in range(1, data.shape[1] - 1)]\n",
    "data.replace({'B' : 0, 'M' : 1}, inplace = True)"
   ]
  },
  {
   "cell_type": "code",
   "execution_count": 4,
   "metadata": {},
   "outputs": [],
   "source": [
    "X = data.iloc[:, 2:]\n",
    "y = data.iloc[:, 1]\n",
    "\n",
    "#Normalize the data\n",
    "from sklearn import preprocessing\n",
    "norm_X = pd.DataFrame(preprocessing.normalize(X))\n",
    "data = pd.concat([y, norm_X], axis = 1)"
   ]
  },
  {
   "cell_type": "code",
   "execution_count": 5,
   "metadata": {},
   "outputs": [],
   "source": [
    "#Split the benign and malignant class\n",
    "benign, malignant = [],[]\n",
    "for i in range(len(data)):\n",
    "    if data['class'][i] == 0:\n",
    "        benign.append(data.iloc[i,:])\n",
    "    else:\n",
    "        malignant.append(data.iloc[i,:])\n",
    "\n",
    "benign = pd.DataFrame(benign)\n",
    "malignant = pd.DataFrame(malignant)"
   ]
  },
  {
   "cell_type": "code",
   "execution_count": 6,
   "metadata": {},
   "outputs": [],
   "source": [
    "from sklearn.svm import LinearSVC\n",
    "from sklearn.model_selection import GridSearchCV, KFold\n",
    "\n",
    "L1_SVM = LinearSVC(penalty = 'l1', dual = False)\n",
    "C_range = np.logspace(-1, 4, 8)\n",
    "L1_params = {'C':C_range}\n",
    "L1_grid = GridSearchCV(L1_SVM, L1_params, cv = KFold(5))"
   ]
  },
  {
   "cell_type": "markdown",
   "metadata": {},
   "source": [
    "b(i)"
   ]
  },
  {
   "cell_type": "code",
   "execution_count": 1,
   "metadata": {},
   "outputs": [],
   "source": [
    "def SVM_result(X, y, L1_SVM, best_C_list, accuracy_list, recall_list, precision_list, f1_list, AUC_list): \n",
    "    \n",
    "    #Best SVM Penalty\n",
    "    best_params = L1_SVM.best_params_\n",
    "    best_C = best_params['C']\n",
    "    best_C_list.append(best_C)\n",
    "    \n",
    "    #Accuracy\n",
    "    y_pred = L1_SVM.predict(X)\n",
    "    accuracy = accuracy_score(y_pred, y)\n",
    "    accuracy_list.append(accuracy)\n",
    "    \n",
    "    #Precision\n",
    "    precision = precision_score(y, y_pred)\n",
    "    precision_list.append(precision)\n",
    "    \n",
    "    #Recall\n",
    "    recall = recall_score(y, y_pred)\n",
    "    recall_list.append(recall)\n",
    "    \n",
    "    #F1 score\n",
    "    f1 = f1_score(y, y_pred)\n",
    "    f1_list.append(f1)\n",
    "    \n",
    "    #AUC value\n",
    "    clf = CalibratedClassifierCV(L1_SVM).fit(X, y)\n",
    "    pred_proba = clf.predict_proba(X)[::,1]\n",
    "    AUC_score = roc_auc_score(y, pred_proba)\n",
    "    AUC_list.append(AUC_score)\n",
    "    \n",
    "    return best_C_list, accuracy_list, recall_list, precision_list, f1_list, AUC_list"
   ]
  },
  {
   "cell_type": "code",
   "execution_count": 7,
   "metadata": {},
   "outputs": [],
   "source": [
    "from sklearn.model_selection import train_test_split\n",
    "from sklearn.calibration import CalibratedClassifierCV\n",
    "from sklearn.metrics import accuracy_score, recall_score, precision_score, f1_score\n",
    "from sklearn.metrics import roc_curve, roc_auc_score, confusion_matrix\n",
    "\n",
    "best_C_train_list, accuracy_train_list, recall_train_list, precision_train_list, f1_train_list, AUC_train_list = [],[],[],[],[],[]\n",
    "best_C_test_list, accuracy_test_list, recall_test_list, precision_test_list, f1_test_list, AUC_test_list = [],[],[],[],[],[]\n",
    "\n",
    "for t in range(30):\n",
    "    #Construct train_data, test_data\n",
    "    train_benign, test_benign = train_test_split(benign, test_size = 0.2)\n",
    "    train_malignant, test_malignant = train_test_split(malignant, test_size = 0.2)\n",
    "    \n",
    "    train_data = pd.concat([train_benign, train_malignant])\n",
    "    test_data = pd.concat([test_benign, test_malignant])\n",
    "    \n",
    "    #Construct X_train, y_train, X_test, y_test\n",
    "    X_train = train_data.iloc[:, 1:]\n",
    "    y_train = train_data.iloc[:, 0]\n",
    "\n",
    "    X_test = test_data.iloc[:, 1:]\n",
    "    y_test = test_data.iloc[:, 0]\n",
    "    \n",
    "    #Construct the model\n",
    "    L1_SVM = L1_grid.fit(X_train, y_train)\n",
    "    best_C_train_list, accuracy_train_list, recall_train_list, precision_train_list, f1_train_list, AUC_train_list = SVM_result(X_train, y_train, L1_SVM, best_C_train_list, accuracy_train_list, recall_train_list, precision_train_list, f1_train_list, AUC_train_list)\n",
    "    \n",
    "    best_C_test_list, accuracy_test_list, recall_test_list, precision_test_list, f1_test_list, AUC_test_list = SVM_result(X_test, y_test, L1_SVM, best_C_test_list, accuracy_test_list, recall_test_list, precision_test_list, f1_test_list, AUC_test_list)"
   ]
  },
  {
   "cell_type": "code",
   "execution_count": 8,
   "metadata": {},
   "outputs": [
    {
     "name": "stdout",
     "output_type": "stream",
     "text": [
      "Train Data:\n",
      "Best SVM Penalty: 8655.1163\n",
      "Accuracy: 0.9833\n",
      "Recall: 0.9696\n",
      "Precision: 0.9854\n",
      "F1 score: 0.9774\n",
      "AUC score: 0.9984\n"
     ]
    }
   ],
   "source": [
    "print('Train Data:')\n",
    "\n",
    "best_C_train = np.mean(best_C_train_list)\n",
    "best_C_train = round(best_C_train, 4)\n",
    "print('Best SVM Penalty:', best_C_train)\n",
    "\n",
    "accuracy_train = np.mean(accuracy_train_list)\n",
    "accuracy_train = round(accuracy_train, 4)\n",
    "print('Accuracy:', accuracy_train)\n",
    "\n",
    "recall_train = np.mean(recall_train_list)\n",
    "recall_train = round(recall_train, 4)\n",
    "print('Recall:', recall_train)\n",
    "\n",
    "precision_train = np.mean(precision_train_list)\n",
    "precision_train = round(precision_train, 4)\n",
    "print('Precision:', precision_train)\n",
    "\n",
    "f1_train = np.mean(f1_train_list)\n",
    "f1_train = round(f1_train, 4)\n",
    "print('F1 score:', f1_train)\n",
    "\n",
    "AUC_train = np.mean(AUC_train_list)\n",
    "AUC_train = round(AUC_train, 4)\n",
    "print('AUC score:', AUC_train)"
   ]
  },
  {
   "cell_type": "code",
   "execution_count": 9,
   "metadata": {},
   "outputs": [
    {
     "name": "stdout",
     "output_type": "stream",
     "text": [
      "Confusion Matrix of Train Data:\n",
      "[[284   1]\n",
      " [  7 162]]\n"
     ]
    },
    {
     "name": "stderr",
     "output_type": "stream",
     "text": [
      "No handles with labels found to put in legend.\n"
     ]
    },
    {
     "data": {
      "image/png": "[encoded data removed]",
      "text/plain": [
       "<Figure size 432x288 with 1 Axes>"
      ]
     },
     "metadata": {
      "needs_background": "light"
     },
     "output_type": "display_data"
    }
   ],
   "source": [
    "L1_SVM = L1_grid.fit(X_train, y_train)\n",
    "\n",
    "#Confusion Matrix\n",
    "y_pred = L1_SVM.predict(X_train)\n",
    "tn, fp, fn, tp = confusion_matrix(y_train, y_pred).ravel()\n",
    "print('Confusion Matrix of Train Data:')\n",
    "print(confusion_matrix(y_train, y_pred))\n",
    "\n",
    "#ROC Curve\n",
    "clf = CalibratedClassifierCV(L1_SVM).fit(X_train, y_train)\n",
    "pred_proba = clf.predict_proba(X_train)[::,1]\n",
    "fpr, tpr, _ = roc_curve(y_train, pred_proba)\n",
    "\n",
    "import matplotlib.pyplot as plt\n",
    "plt.plot(fpr, tpr, color='red')\n",
    "plt.plot([0, 1], [0, 1], color='black', linestyle='--')\n",
    "plt.xlabel('False Positive Rate')\n",
    "plt.ylabel('True Positive Rate')\n",
    "plt.title('ROC Curve of Train Data')\n",
    "plt.xlim([0.0, 1.0])\n",
    "plt.ylim([0.0, 1.1])\n",
    "plt.legend()\n",
    "plt.show()"
   ]
  },
  {
   "cell_type": "code",
   "execution_count": 10,
   "metadata": {},
   "outputs": [
    {
     "name": "stdout",
     "output_type": "stream",
     "text": [
      "Test Data:\n",
      "Best SVM Penalty: 8655.1163\n",
      "Accuracy: 0.9646\n",
      "Recall: 0.9442\n",
      "Precision: 0.9613\n",
      "F1 score: 0.952\n",
      "AUC score: 0.9973\n"
     ]
    }
   ],
   "source": [
    "print('Test Data:')\n",
    "\n",
    "best_C_test = np.mean(best_C_test_list)\n",
    "best_C_test = round(best_C_test, 4)\n",
    "print('Best SVM Penalty:', best_C_test)\n",
    "\n",
    "accuracy_test = np.mean(accuracy_test_list)\n",
    "accuracy_test = round(accuracy_test, 4)\n",
    "print('Accuracy:', accuracy_test)\n",
    "\n",
    "recall_test = np.mean(recall_test_list)\n",
    "recall_test = round(recall_test, 4)\n",
    "print('Recall:', recall_test)\n",
    "\n",
    "precision_test = np.mean(precision_test_list)\n",
    "precision_test = round(precision_test, 4)\n",
    "print('Precision:', precision_test)\n",
    "\n",
    "f1_test = np.mean(f1_test_list)\n",
    "f1_test = round(f1_test, 4)\n",
    "print('F1 score:', f1_test)\n",
    "\n",
    "AUC_test = np.mean(AUC_test_list)\n",
    "AUC_test = round(AUC_test, 4)\n",
    "print('AUC score:', AUC_test)"
   ]
  },
  {
   "cell_type": "code",
   "execution_count": 11,
   "metadata": {},
   "outputs": [
    {
     "name": "stdout",
     "output_type": "stream",
     "text": [
      "Confusion Matrix of Test Data:\n",
      "[[72  0]\n",
      " [ 0 43]]\n"
     ]
    },
    {
     "name": "stderr",
     "output_type": "stream",
     "text": [
      "No handles with labels found to put in legend.\n"
     ]
    },
    {
     "data": {
      "image/png": "[encoded data removed]",
      "text/plain": [
       "<Figure size 432x288 with 1 Axes>"
      ]
     },
     "metadata": {
      "needs_background": "light"
     },
     "output_type": "display_data"
    }
   ],
   "source": [
    "L1_SVM = L1_grid.fit(X_test, y_test)\n",
    "\n",
    "#Confusion Matrix\n",
    "y_pred = L1_SVM.predict(X_test)\n",
    "tn, fp, fn, tp = confusion_matrix(y_test, y_pred).ravel()\n",
    "print('Confusion Matrix of Test Data:')\n",
    "print(confusion_matrix(y_test, y_pred))\n",
    "\n",
    "#ROC Curve\n",
    "clf = CalibratedClassifierCV(L1_SVM).fit(X_test, y_test)\n",
    "pred_proba = clf.predict_proba(X_test)[::,1]\n",
    "fpr, tpr, _ = roc_curve(y_test, pred_proba)\n",
    "\n",
    "import matplotlib.pyplot as plt\n",
    "plt.plot(fpr, tpr, color='red')\n",
    "plt.plot([0, 1], [0, 1], color='black', linestyle='--')\n",
    "plt.xlabel('False Positive Rate')\n",
    "plt.ylabel('True Positive Rate')\n",
    "plt.title('ROC Curve of Test Data')\n",
    "plt.xlim([0.0, 1.0])\n",
    "plt.ylim([0.0, 1.1])\n",
    "plt.legend()\n",
    "plt.show()"
   ]
  },
  {
   "cell_type": "markdown",
   "metadata": {},
   "source": [
    "b(ii) "
   ]
  },
  {
   "cell_type": "code",
   "execution_count": 12,
   "metadata": {},
   "outputs": [],
   "source": [
    "best_C_train_list, accuracy_train_list, recall_train_list, precision_train_list, f1_train_list, AUC_train_list = [],[],[],[],[],[]\n",
    "best_C_test_list, accuracy_test_list, recall_test_list, precision_test_list, f1_test_list, AUC_test_list = [],[],[],[],[],[]\n",
    "\n",
    "for t in range(30):\n",
    "    \n",
    "    #A\n",
    "    #Construct train_data, test_data\n",
    "    train_benign, test_benign = train_test_split(benign, test_size = 0.2)\n",
    "    train_malignant, test_malignant = train_test_split(malignant, test_size = 0.2)\n",
    "    \n",
    "    train_data = pd.concat([train_benign, train_malignant])\n",
    "    test_data = pd.concat([test_benign, test_malignant])\n",
    "    \n",
    "    #Construct X_train, y_train, X_test, y_test\n",
    "    X_train = train_data.iloc[:, 1:]\n",
    "    y_train = train_data.iloc[:, 0]\n",
    "\n",
    "    X_test = test_data.iloc[:, 1:]\n",
    "    y_test = test_data.iloc[:, 0]\n",
    "    \n",
    "    #Construct train_data, test_data\n",
    "    labeled_data, unlabeled_data = train_test_split(train_data, test_size = 0.5)\n",
    "    \n",
    "    #Construct X_label, y_label, X_unlabel, y_unlabel\n",
    "    X_label = labeled_data.iloc[:, 1:]\n",
    "    y_label = labeled_data.iloc[:, 0]\n",
    "    X_unlabel = unlabeled_data.iloc[:, 1:]\n",
    "    y_unlabel = unlabeled_data.iloc[:, 0]\n",
    "    \n",
    "    #Construct the model\n",
    "    L1_SVM = L1_grid.fit(X_label, y_label)\n",
    "    \n",
    "    #B\n",
    "    while len(X_unlabel) > 0:\n",
    "        \n",
    "        #Calculate distance from unlabeled data points to decision boundary\n",
    "        distances = L1_SVM.decision_function(X_unlabel)\n",
    "\n",
    "        #Sort by the absolute value of score\n",
    "        sorted_index = sorted([i for i in range(len(X_unlabel))], key = lambda x : abs(distances[x]), reverse = True)\n",
    "        farthest_point = sorted_index[0]\n",
    "        farthest_X = pd.DataFrame(X_unlabel.iloc[farthest_point,:])\n",
    "        farthest_y = pd.Series(y_unlabel.iloc[farthest_point])\n",
    "        \n",
    "        #Remove the farest point from unlabeled and add it to labeled\n",
    "        X_label = pd.concat([X_label, farthest_X.T])\n",
    "        y_label = pd.concat([y_label, farthest_y])\n",
    "        droped_index = X_unlabel.index[farthest_point]\n",
    "        X_unlabel = X_unlabel.drop(index = droped_index)\n",
    "        \n",
    "        #Refit the SVC\n",
    "        L1_SVM = L1_grid.fit(X_label, y_label)\n",
    "    \n",
    "    best_C_train_list, accuracy_train_list, recall_train_list, precision_train_list, f1_train_list, AUC_train_list = SVM_result(X_label, y_label, L1_SVM, best_C_train_list, accuracy_train_list, recall_train_list, precision_train_list, f1_train_list, AUC_train_list)\n",
    "    best_C_test_list, accuracy_test_list, recall_test_list, precision_test_list, f1_test_list, AUC_test_list = SVM_result(X_test, y_test, L1_SVM, best_C_test_list, accuracy_test_list, recall_test_list, precision_test_list, f1_test_list, AUC_test_list)"
   ]
  },
  {
   "cell_type": "code",
   "execution_count": 13,
   "metadata": {},
   "outputs": [
    {
     "name": "stdout",
     "output_type": "stream",
     "text": [
      "Train Data:\n",
      "Best SVM Penalty: 2729.1925\n",
      "Accuracy: 0.749\n",
      "Recall: 0.5483\n",
      "Precision: 0.6959\n",
      "F1 score: 0.6126\n",
      "AUC score: 0.7397\n"
     ]
    }
   ],
   "source": [
    "print('Train Data:')\n",
    "\n",
    "best_C_train = np.mean(best_C_train_list)\n",
    "best_C_train = round(best_C_train, 4)\n",
    "print('Best SVM Penalty:', best_C_train)\n",
    "\n",
    "accuracy_train = np.mean(accuracy_train_list)\n",
    "accuracy_train = round(accuracy_train, 4)\n",
    "print('Accuracy:', accuracy_train)\n",
    "\n",
    "recall_train = np.mean(recall_train_list)\n",
    "recall_train = round(recall_train, 4)\n",
    "print('Recall:', recall_train)\n",
    "\n",
    "precision_train = np.mean(precision_train_list)\n",
    "precision_train = round(precision_train, 4)\n",
    "print('Precision:', precision_train)\n",
    "\n",
    "f1_train = np.mean(f1_train_list)\n",
    "f1_train = round(f1_train, 4)\n",
    "print('F1 score:', f1_train)\n",
    "\n",
    "AUC_train = np.mean(AUC_train_list)\n",
    "AUC_train = round(AUC_train, 4)\n",
    "print('AUC score:', AUC_train)"
   ]
  },
  {
   "cell_type": "code",
   "execution_count": 14,
   "metadata": {},
   "outputs": [
    {
     "name": "stdout",
     "output_type": "stream",
     "text": [
      "Confusion Matrix of Train Data:\n",
      "[[285   0]\n",
      " [ 40 129]]\n"
     ]
    },
    {
     "name": "stderr",
     "output_type": "stream",
     "text": [
      "No handles with labels found to put in legend.\n"
     ]
    },
    {
     "data": {
      "image/png": "[encoded data removed]",
      "text/plain": [
       "<Figure size 432x288 with 1 Axes>"
      ]
     },
     "metadata": {
      "needs_background": "light"
     },
     "output_type": "display_data"
    }
   ],
   "source": [
    "#Confusion Matrix\n",
    "y_pred = L1_SVM.predict(X_train)\n",
    "tn, fp, fn, tp = confusion_matrix(y_train, y_pred).ravel()\n",
    "print('Confusion Matrix of Train Data:')\n",
    "print(confusion_matrix(y_train, y_pred))\n",
    "\n",
    "#ROC Curve\n",
    "clf = CalibratedClassifierCV(L1_SVM).fit(X_train, y_train)\n",
    "pred_proba = clf.predict_proba(X_train)[::,1]\n",
    "fpr, tpr, _ = roc_curve(y_train, pred_proba)\n",
    "\n",
    "import matplotlib.pyplot as plt\n",
    "plt.plot(fpr, tpr, color='red')\n",
    "plt.plot([0, 1], [0, 1], color='black', linestyle='--')\n",
    "plt.xlabel('False Positive Rate')\n",
    "plt.ylabel('True Positive Rate')\n",
    "plt.title('ROC Curve of Train Data')\n",
    "plt.xlim([0.0, 1.0])\n",
    "plt.ylim([0.0, 1.1])\n",
    "plt.legend()\n",
    "plt.show()"
   ]
  },
  {
   "cell_type": "code",
   "execution_count": 15,
   "metadata": {},
   "outputs": [
    {
     "name": "stdout",
     "output_type": "stream",
     "text": [
      "Test Data:\n",
      "Best SVM Penalty: 2729.1925\n",
      "Accuracy: 0.9064\n",
      "Recall: 0.7659\n",
      "Precision: 0.981\n",
      "F1 score: 0.8575\n",
      "AUC score: 0.9981\n"
     ]
    }
   ],
   "source": [
    "print('Test Data:')\n",
    "\n",
    "best_C_test = np.mean(best_C_test_list)\n",
    "best_C_test = round(best_C_test, 4)\n",
    "print('Best SVM Penalty:', best_C_test)\n",
    "\n",
    "accuracy_test = np.mean(accuracy_test_list)\n",
    "accuracy_test = round(accuracy_test, 4)\n",
    "print('Accuracy:', accuracy_test)\n",
    "\n",
    "recall_test = np.mean(recall_test_list)\n",
    "recall_test = round(recall_test, 4)\n",
    "print('Recall:', recall_test)\n",
    "\n",
    "precision_test = np.mean(precision_test_list)\n",
    "precision_test = round(precision_test, 4)\n",
    "print('Precision:', precision_test)\n",
    "\n",
    "f1_test = np.mean(f1_test_list)\n",
    "f1_test = round(f1_test, 4)\n",
    "print('F1 score:', f1_test)\n",
    "\n",
    "AUC_test = np.mean(AUC_test_list)\n",
    "AUC_test = round(AUC_test, 4)\n",
    "print('AUC score:', AUC_test)"
   ]
  },
  {
   "cell_type": "code",
   "execution_count": 16,
   "metadata": {},
   "outputs": [
    {
     "name": "stdout",
     "output_type": "stream",
     "text": [
      "Confusion Matrix of Test Data:\n",
      "[[72  0]\n",
      " [ 8 35]]\n"
     ]
    },
    {
     "name": "stderr",
     "output_type": "stream",
     "text": [
      "No handles with labels found to put in legend.\n"
     ]
    },
    {
     "data": {
      "image/png": "[encoded data removed]",
      "text/plain": [
       "<Figure size 432x288 with 1 Axes>"
      ]
     },
     "metadata": {
      "needs_background": "light"
     },
     "output_type": "display_data"
    }
   ],
   "source": [
    "#Confusion Matrix\n",
    "y_pred = L1_SVM.predict(X_test)\n",
    "tn, fp, fn, tp = confusion_matrix(y_test, y_pred).ravel()\n",
    "print('Confusion Matrix of Test Data:')\n",
    "print(confusion_matrix(y_test, y_pred))\n",
    "\n",
    "#ROC Curve\n",
    "clf = CalibratedClassifierCV(L1_SVM).fit(X_test, y_test)\n",
    "pred_proba = clf.predict_proba(X_test)[::,1]\n",
    "fpr, tpr, _ = roc_curve(y_test, pred_proba)\n",
    "\n",
    "import matplotlib.pyplot as plt\n",
    "plt.plot(fpr, tpr, color='red')\n",
    "plt.plot([0, 1], [0, 1], color='black', linestyle='--')\n",
    "plt.xlabel('False Positive Rate')\n",
    "plt.ylabel('True Positive Rate')\n",
    "plt.title('ROC Curve of Test Data')\n",
    "plt.xlim([0.0, 1.0])\n",
    "plt.ylim([0.0, 1.1])\n",
    "plt.legend()\n",
    "plt.show()"
   ]
  },
  {
   "cell_type": "markdown",
   "metadata": {},
   "source": [
    "b(iii)"
   ]
  },
  {
   "cell_type": "markdown",
   "metadata": {},
   "source": [
    "A. Given kmeans iterative nature and the random initialization of centroids at the start of the algorithm, different initializations may lead to different clusters since kmeans algorithm may stuck in a local optimum and may not converge to global optimum. Therefore, it is better to run the algorithm using different initializations of centroids and pick the results of the run that that yielded the lower sum of squared distance."
   ]
  },
  {
   "cell_type": "code",
   "execution_count": 32,
   "metadata": {},
   "outputs": [],
   "source": [
    "def kmeans_result(X, y, y_pred, k_means, accuracy_list, recall_list, precision_list, f1_list, AUC_list): \n",
    "    \n",
    "    #Accuracy\n",
    "    accuracy = accuracy_score(y, y_pred)\n",
    "    accuracy_list.append(accuracy)\n",
    "    \n",
    "    #Precision\n",
    "    precision = precision_score(y, y_pred)\n",
    "    precision_list.append(precision)\n",
    "    \n",
    "    #Recall\n",
    "    recall = recall_score(y, y_pred)\n",
    "    recall_list.append(recall)\n",
    "    \n",
    "    #F1 score\n",
    "    f1 = f1_score(y, y_pred)\n",
    "    f1_list.append(f1)\n",
    "    \n",
    "    #AUC value\n",
    "    clf = GaussianMixture(n_components = 2, covariance_type = 'spherical', means_init = kmeans.cluster_centers_).fit(X)\n",
    "    pred_proba = clf.predict_proba(X)[::,1]\n",
    "    AUC_score = roc_auc_score(y, pred_proba)\n",
    "    AUC_list.append(AUC_score)\n",
    "    \n",
    "    \n",
    "    return accuracy_list, recall_list, precision_list, f1_list, AUC_list"
   ]
  },
  {
   "cell_type": "code",
   "execution_count": 24,
   "metadata": {},
   "outputs": [],
   "source": [
    "import operator\n",
    "from sklearn.cluster import KMeans\n",
    "from sklearn.mixture import GaussianMixture\n",
    "from sklearn.metrics.pairwise import euclidean_distances\n",
    "\n",
    "accuracy_train_list, recall_train_list, precision_train_list, f1_train_list, AUC_train_list = [], [], [], [], []\n",
    "accuracy_test_list, recall_test_list, precision_test_list, f1_test_list, AUC_test_list = [], [], [], [], []\n",
    "cluster_majority = []\n",
    "\n",
    "for t in range(30):\n",
    "    \n",
    "    #A\n",
    "    #Construct train_data, test_data\n",
    "    train_benign, test_benign = train_test_split(benign, test_size = 0.2)\n",
    "    train_malignant, test_malignant = train_test_split(malignant, test_size = 0.2)\n",
    "    \n",
    "    train_data = pd.concat([train_benign, train_malignant])\n",
    "    test_data = pd.concat([test_benign, test_malignant])\n",
    "    \n",
    "    #Construct X_train, y_train, X_test, y_test\n",
    "    X_train = train_data.iloc[:, 1:]\n",
    "    y_train = train_data.iloc[:, 0]\n",
    "\n",
    "    X_test = test_data.iloc[:, 1:]\n",
    "    y_test = test_data.iloc[:, 0]\n",
    "    \n",
    "    #Construct the model\n",
    "    k_means = KMeans(n_clusters = 2, init = 'random').fit(X_train)    # build kmeans cluster with optimal k\n",
    "    \n",
    "    #B\n",
    "    cluster_center = k_means.cluster_centers_\n",
    "    y_pred_train = k_means.predict(X_train)\n",
    "    distances = euclidean_distances(X_train, cluster_center)\n",
    "\n",
    "    cluster1_distance, cluster2_distance = {},{}\n",
    "    for i in range(len(X_train)):\n",
    "        cluster1_distance[i] = distances[i][0]\n",
    "        cluster2_distance[i] = distances[i][1]\n",
    "    sorted_cluster1 = sorted(cluster1_distance.items(), key = operator.itemgetter(1))\n",
    "    sorted_cluster2 = sorted(cluster2_distance.items(), key = operator.itemgetter(1))\n",
    "    \n",
    "    #Find the Majority of First Cluster \n",
    "    cluster1_label = {}\n",
    "    for i in range(0, 30):\n",
    "        index = sorted_cluster1[i][0]\n",
    "        label = y[index]\n",
    "        if label in cluster1_label.keys():\n",
    "            cluster1_label[label] += 1\n",
    "        else:\n",
    "            cluster1_label[label] = 1\n",
    "            \n",
    "    sorted_cluster1_label = sorted(cluster1_label.items(), key = operator.itemgetter(1), reverse = True)\n",
    "    cluster1_majority = sorted_cluster1_label[0][0]\n",
    "    \n",
    "    #Find the Majority of Second Cluster\n",
    "    cluster2_label = {}\n",
    "    for i in range(0, 30):\n",
    "        index = sorted_cluster2[i][0]\n",
    "        label = y[index]\n",
    "        if label in cluster2_label.keys():\n",
    "            cluster2_label[label] += 1\n",
    "        else:\n",
    "            cluster2_label[label] = 1\n",
    "            \n",
    "    sorted_cluster2_label = sorted(cluster2_label.items(), key = operator.itemgetter(1), reverse = True)\n",
    "    cluster2_majority = sorted_cluster2_label[0][0]\n",
    "    \n",
    "    cluster_majority.append(cluster1_majority)\n",
    "    cluster_majority.append(cluster2_majority)\n",
    "    \n",
    "    accuracy_train_list, recall_train_list, precision_train_list, f1_train_list, AUC_train_list = cluster_result(X_train, y_train, y_pred_train, k_means, accuracy_train_list, recall_train_list, precision_train_list, f1_train_list, AUC_train_list)\n",
    "    \n",
    "    #C\n",
    "    #Test Data\n",
    "    y_pred_test = k_means.predict(X_test)\n",
    "    accuracy_test_list, recall_test_list, precision_test_list, f1_test_list, AUC_test_list = cluster_result(X_test, y_test, y_pred_test, k_means, accuracy_test_list, recall_test_list, precision_test_list, f1_test_list, AUC_test_list)"
   ]
  },
  {
   "cell_type": "code",
   "execution_count": 25,
   "metadata": {},
   "outputs": [
    {
     "name": "stdout",
     "output_type": "stream",
     "text": [
      "Train Data:\n",
      "Accuracy: 0.5764\n",
      "Recall: 0.5406\n",
      "Precision: 0.6326\n",
      "F1 score: 0.5682\n",
      "AUC score: 0.5936\n"
     ]
    }
   ],
   "source": [
    "print('Train Data:')\n",
    "\n",
    "accuracy_train = np.mean(accuracy_train_list)\n",
    "accuracy_train = round(accuracy_train, 4)\n",
    "print('Accuracy:', accuracy_train)\n",
    "\n",
    "recall_train = np.mean(recall_train_list)\n",
    "recall_train = round(recall_train, 4)\n",
    "print('Recall:', recall_train)\n",
    "\n",
    "precision_train = np.mean(precision_train_list)\n",
    "precision_train = round(precision_train, 4)\n",
    "print('Precision:', precision_train)\n",
    "\n",
    "f1_train = np.mean(f1_train_list)\n",
    "f1_train = round(f1_train, 4)\n",
    "print('F1 score:', f1_train)\n",
    "\n",
    "AUC_train = np.mean(AUC_train_list)\n",
    "AUC_train = round(AUC_train, 4)\n",
    "print('AUC score:', AUC_train)"
   ]
  },
  {
   "cell_type": "code",
   "execution_count": 28,
   "metadata": {},
   "outputs": [
    {
     "name": "stderr",
     "output_type": "stream",
     "text": [
      "No handles with labels found to put in legend.\n"
     ]
    },
    {
     "name": "stdout",
     "output_type": "stream",
     "text": [
      "Confusion Matrix of Train Data:\n",
      "[[282   3]\n",
      " [ 47 122]]\n"
     ]
    },
    {
     "data": {
      "image/png": "[encoded data removed]",
      "text/plain": [
       "<Figure size 432x288 with 1 Axes>"
      ]
     },
     "metadata": {
      "needs_background": "light"
     },
     "output_type": "display_data"
    }
   ],
   "source": [
    "#Confusion Matrix\n",
    "tn, fp, fn, tp = confusion_matrix(y_train, y_pred_train).ravel()\n",
    "print('Confusion Matrix of Train Data:')\n",
    "print(confusion_matrix(y_train, y_pred_train))\n",
    "\n",
    "#ROC Curve\n",
    "clf = GaussianMixture(n_components = 2, covariance_type = 'spherical', means_init = k_means.cluster_centers_).fit(X_train)\n",
    "pred_proba = clf.predict_proba(X_train)[::,1]\n",
    "fpr, tpr, _ = roc_curve(y_train, pred_proba)\n",
    "\n",
    "import matplotlib.pyplot as plt\n",
    "plt.plot(fpr, tpr, color='red')\n",
    "plt.plot([0, 1], [0, 1], color='black', linestyle='--')\n",
    "plt.xlabel('False Positive Rate')\n",
    "plt.ylabel('True Positive Rate')\n",
    "plt.title('ROC Curve of Train Data')\n",
    "plt.xlim([0.0, 1.0])\n",
    "plt.ylim([0.0, 1.1])\n",
    "plt.legend()\n",
    "plt.show()"
   ]
  },
  {
   "cell_type": "code",
   "execution_count": 29,
   "metadata": {},
   "outputs": [
    {
     "name": "stdout",
     "output_type": "stream",
     "text": [
      "Test Data:\n",
      "Accuracy: 0.5788\n",
      "Recall: 0.5558\n",
      "Precision: 0.6243\n",
      "F1 score: 0.5743\n",
      "AUC score: 0.5973\n"
     ]
    }
   ],
   "source": [
    "print('Test Data:')\n",
    "\n",
    "accuracy_test = np.mean(accuracy_test_list)\n",
    "accuracy_test = round(accuracy_test, 4)\n",
    "print('Accuracy:', accuracy_test)\n",
    "\n",
    "recall_test = np.mean(recall_test_list)\n",
    "recall_test = round(recall_test, 4)\n",
    "print('Recall:', recall_test)\n",
    "\n",
    "precision_test = np.mean(precision_test_list)\n",
    "precision_test = round(precision_test, 4)\n",
    "print('Precision:', precision_test)\n",
    "\n",
    "f1_test = np.mean(f1_test_list)\n",
    "f1_test = round(f1_test, 4)\n",
    "print('F1 score:', f1_test)\n",
    "\n",
    "AUC_test = np.mean(AUC_test_list)\n",
    "AUC_test = round(AUC_test, 4)\n",
    "print('AUC score:', AUC_test)"
   ]
  },
  {
   "cell_type": "code",
   "execution_count": 30,
   "metadata": {
    "scrolled": true
   },
   "outputs": [
    {
     "name": "stderr",
     "output_type": "stream",
     "text": [
      "No handles with labels found to put in legend.\n"
     ]
    },
    {
     "name": "stdout",
     "output_type": "stream",
     "text": [
      "Confusion Matrix of Test Data:\n",
      "[[69  3]\n",
      " [14 29]]\n"
     ]
    },
    {
     "data": {
      "image/png": "[encoded data removed]",
      "text/plain": [
       "<Figure size 432x288 with 1 Axes>"
      ]
     },
     "metadata": {
      "needs_background": "light"
     },
     "output_type": "display_data"
    }
   ],
   "source": [
    "#Confusion Matrix\n",
    "y_pred = L1_SVM.predict(X_test)\n",
    "tn, fp, fn, tp = confusion_matrix(y_test, y_pred_test).ravel()\n",
    "print('Confusion Matrix of Test Data:')\n",
    "print(confusion_matrix(y_test, y_pred_test))\n",
    "\n",
    "#ROC Curve\n",
    "clf = GaussianMixture(n_components = 2, covariance_type = 'spherical', means_init = k_means.cluster_centers_).fit(X_test)\n",
    "pred_proba = clf.predict_proba(X_test)[::,1]\n",
    "fpr, tpr, _ = roc_curve(y_test, pred_proba)\n",
    "\n",
    "import matplotlib.pyplot as plt\n",
    "plt.plot(fpr, tpr, color='red')\n",
    "plt.plot([0, 1], [0, 1], color='black', linestyle='--')\n",
    "plt.xlabel('False Positive Rate')\n",
    "plt.ylabel('True Positive Rate')\n",
    "plt.title('ROC Curve of Test Data')\n",
    "plt.xlim([0.0, 1.0])\n",
    "plt.ylim([0.0, 1.1])\n",
    "plt.legend()\n",
    "plt.show()"
   ]
  },
  {
   "cell_type": "markdown",
   "metadata": {},
   "source": [
    "The average scores of accuracy, precision, recall, F1-score, and AUC in the Supervised Learning is much more than those in the other two  algorithms. The average scores of accuracy, precision, recall, F1-score, and AUC in Semi-Supervised Learning are slightly more than those in the Unsupervised Learning."
   ]
  },
  {
   "cell_type": "markdown",
   "metadata": {},
   "source": [
    "b(iv)"
   ]
  },
  {
   "cell_type": "markdown",
   "metadata": {},
   "source": [
    "Spectral clustering is a technique with roots in graph theory, where the approach is used to identify communities of nodes in a graph based on the edges connecting them. The method is flexible and allows us to cluster non graph data as well."
   ]
  },
  {
   "cell_type": "code",
   "execution_count": 34,
   "metadata": {},
   "outputs": [],
   "source": [
    "def spectral_result(X, y, y_pred, k_means, accuracy_list, recall_list, precision_list, f1_list, AUC_list): \n",
    "    \n",
    "    #Accuracy\n",
    "    accuracy = accuracy_score(y, y_pred)\n",
    "    accuracy_list.append(accuracy)\n",
    "    \n",
    "    #Precision\n",
    "    precision = precision_score(y, y_pred)\n",
    "    precision_list.append(precision)\n",
    "    \n",
    "    #Recall\n",
    "    recall = recall_score(y, y_pred)\n",
    "    recall_list.append(recall)\n",
    "    \n",
    "    #F1 score\n",
    "    f1 = f1_score(y, y_pred)\n",
    "    f1_list.append(f1)\n",
    "    \n",
    "    #AUC value\n",
    "    clf = GaussianMixture(n_components = 2, covariance_type = 'spherical').fit(X)\n",
    "    pred_proba = clf.predict_proba(X)[::,1]\n",
    "    AUC_score = roc_auc_score(y, pred_proba)\n",
    "    AUC_list.append(AUC_score)\n",
    "    \n",
    "    return accuracy_list, recall_list, precision_list, f1_list, AUC_list"
   ]
  },
  {
   "cell_type": "code",
   "execution_count": 36,
   "metadata": {},
   "outputs": [],
   "source": [
    "from sklearn.cluster import SpectralClustering\n",
    "accuracy_train_list, recall_train_list, precision_train_list, f1_train_list, AUC_train_list = [], [], [], [], []\n",
    "accuracy_test_list, recall_test_list, precision_test_list, f1_test_list, AUC_test_list = [], [], [], [], []\n",
    "\n",
    "for t in range(30):\n",
    "    \n",
    "    #Construct train_data, test_data\n",
    "    train_benign, test_benign = train_test_split(benign, test_size = 0.2)\n",
    "    train_malignant, test_malignant = train_test_split(malignant, test_size = 0.2)\n",
    "    \n",
    "    train_data = pd.concat([train_benign, train_malignant])\n",
    "    test_data = pd.concat([test_benign, test_malignant])\n",
    "    \n",
    "    #Construct X_train, y_train, X_test, y_test\n",
    "    X_train = train_data.iloc[:, 1:]\n",
    "    y_train = train_data.iloc[:, 0]\n",
    "\n",
    "    X_test = test_data.iloc[:, 1:]\n",
    "    y_test = test_data.iloc[:, 0]\n",
    "    \n",
    "    #Construct the model\n",
    "    spectral_cluster = SpectralClustering(n_clusters = 2, gamma = 1.0, eigen_tol = 1.0, assign_labels ='discretize')\n",
    "    labels_train = spectral_cluster.fit_predict(X_train)\n",
    "    \n",
    "    accuracy_train_list, recall_train_list, precision_train_list, f1_train_list, AUC_train_list = spectral_result(X_train, y_train, labels_train, spectral_cluster, accuracy_train_list, recall_train_list, precision_train_list, f1_train_list, AUC_train_list)\n",
    "    \n",
    "    #Test Data\n",
    "    labels_test = spectral_cluster.fit_predict(X_test)\n",
    "    accuracy_test_list, recall_test_list, precision_test_list, f1_test_list, AUC_test_list = spectral_result(X_test, y_test, labels_test, spectral_cluster, accuracy_test_list, recall_test_list, precision_test_list, f1_test_list, AUC_test_list)"
   ]
  },
  {
   "cell_type": "code",
   "execution_count": 37,
   "metadata": {},
   "outputs": [
    {
     "name": "stdout",
     "output_type": "stream",
     "text": [
      "Train Data:\n",
      "Accuracy: 0.5253\n",
      "Recall: 0.5164\n",
      "Precision: 0.5281\n",
      "F1 score: 0.5159\n",
      "AUC score: 0.6227\n"
     ]
    }
   ],
   "source": [
    "print('Train Data:')\n",
    "\n",
    "accuracy_train = np.mean(accuracy_train_list)\n",
    "accuracy_train = round(accuracy_train, 4)\n",
    "print('Accuracy:', accuracy_train)\n",
    "\n",
    "recall_train = np.mean(recall_train_list)\n",
    "recall_train = round(recall_train, 4)\n",
    "print('Recall:', recall_train)\n",
    "\n",
    "precision_train = np.mean(precision_train_list)\n",
    "precision_train = round(precision_train, 4)\n",
    "print('Precision:', precision_train)\n",
    "\n",
    "f1_train = np.mean(f1_train_list)\n",
    "f1_train = round(f1_train, 4)\n",
    "print('F1 score:', f1_train)\n",
    "\n",
    "AUC_train = np.mean(AUC_train_list)\n",
    "AUC_train = round(AUC_train, 4)\n",
    "print('AUC score:', AUC_train)"
   ]
  },
  {
   "cell_type": "code",
   "execution_count": 38,
   "metadata": {},
   "outputs": [
    {
     "name": "stderr",
     "output_type": "stream",
     "text": [
      "No handles with labels found to put in legend.\n"
     ]
    },
    {
     "name": "stdout",
     "output_type": "stream",
     "text": [
      "Confusion Matrix of Train Data:\n",
      "[[282   3]\n",
      " [ 47 122]]\n"
     ]
    },
    {
     "data": {
      "image/png": "[encoded data removed]",
      "text/plain": [
       "<Figure size 432x288 with 1 Axes>"
      ]
     },
     "metadata": {
      "needs_background": "light"
     },
     "output_type": "display_data"
    }
   ],
   "source": [
    "#Confusion Matrix\n",
    "tn, fp, fn, tp = confusion_matrix(y_train, y_pred_train).ravel()\n",
    "print('Confusion Matrix of Train Data:')\n",
    "print(confusion_matrix(y_train, y_pred_train))\n",
    "\n",
    "#ROC Curve\n",
    "clf = GaussianMixture(n_components = 2, covariance_type = 'spherical', means_init = k_means.cluster_centers_).fit(X_train)\n",
    "pred_proba = clf.predict_proba(X_train)[::,1]\n",
    "fpr, tpr, _ = roc_curve(y_train, pred_proba)\n",
    "\n",
    "import matplotlib.pyplot as plt\n",
    "plt.plot(fpr, tpr, color='red')\n",
    "plt.plot([0, 1], [0, 1], color='black', linestyle='--')\n",
    "plt.xlabel('False Positive Rate')\n",
    "plt.ylabel('True Positive Rate')\n",
    "plt.title('ROC Curve of Train Data')\n",
    "plt.xlim([0.0, 1.0])\n",
    "plt.ylim([0.0, 1.1])\n",
    "plt.legend()\n",
    "plt.show()"
   ]
  },
  {
   "cell_type": "code",
   "execution_count": 39,
   "metadata": {},
   "outputs": [
    {
     "name": "stdout",
     "output_type": "stream",
     "text": [
      "Test Data:\n",
      "Accuracy: 0.6319\n",
      "Recall: 0.6\n",
      "Precision: 0.6397\n",
      "F1 score: 0.6132\n",
      "AUC score: 0.561\n"
     ]
    }
   ],
   "source": [
    "print('Test Data:')\n",
    "\n",
    "accuracy_test = np.mean(accuracy_test_list)\n",
    "accuracy_test = round(accuracy_test, 4)\n",
    "print('Accuracy:', accuracy_test)\n",
    "\n",
    "recall_test = np.mean(recall_test_list)\n",
    "recall_test = round(recall_test, 4)\n",
    "print('Recall:', recall_test)\n",
    "\n",
    "precision_test = np.mean(precision_test_list)\n",
    "precision_test = round(precision_test, 4)\n",
    "print('Precision:', precision_test)\n",
    "\n",
    "f1_test = np.mean(f1_test_list)\n",
    "f1_test = round(f1_test, 4)\n",
    "print('F1 score:', f1_test)\n",
    "\n",
    "AUC_test = np.mean(AUC_test_list)\n",
    "AUC_test = round(AUC_test, 4)\n",
    "print('AUC score:', AUC_test)"
   ]
  },
  {
   "cell_type": "code",
   "execution_count": 40,
   "metadata": {},
   "outputs": [
    {
     "name": "stderr",
     "output_type": "stream",
     "text": [
      "No handles with labels found to put in legend.\n"
     ]
    },
    {
     "name": "stdout",
     "output_type": "stream",
     "text": [
      "Confusion Matrix of Test Data:\n",
      "[[69  3]\n",
      " [14 29]]\n"
     ]
    },
    {
     "data": {
      "image/png": "[encoded data removed]",
      "text/plain": [
       "<Figure size 432x288 with 1 Axes>"
      ]
     },
     "metadata": {
      "needs_background": "light"
     },
     "output_type": "display_data"
    }
   ],
   "source": [
    "#Confusion Matrix\n",
    "y_pred = L1_SVM.predict(X_test)\n",
    "tn, fp, fn, tp = confusion_matrix(y_test, y_pred_test).ravel()\n",
    "print('Confusion Matrix of Test Data:')\n",
    "print(confusion_matrix(y_test, y_pred_test))\n",
    "\n",
    "#ROC Curve\n",
    "clf = GaussianMixture(n_components = 2, covariance_type = 'spherical', means_init = k_means.cluster_centers_).fit(X_test)\n",
    "pred_proba = clf.predict_proba(X_test)[::,1]\n",
    "fpr, tpr, _ = roc_curve(y_test, pred_proba)\n",
    "\n",
    "import matplotlib.pyplot as plt\n",
    "plt.plot(fpr, tpr, color='red')\n",
    "plt.plot([0, 1], [0, 1], color='black', linestyle='--')\n",
    "plt.xlabel('False Positive Rate')\n",
    "plt.ylabel('True Positive Rate')\n",
    "plt.title('ROC Curve of Test Data')\n",
    "plt.xlim([0.0, 1.0])\n",
    "plt.ylim([0.0, 1.1])\n",
    "plt.legend()\n",
    "plt.show()"
   ]
  },
  {
   "cell_type": "markdown",
   "metadata": {},
   "source": [
    "b(v)"
   ]
  },
  {
   "cell_type": "markdown",
   "metadata": {},
   "source": [
    "According to the scores of accuracy, precision, recall, F1-score and AUC, supervised learning on the full data set works better than semi-supervised learning with half of the data set labeled. Unsupervised learning underperforms in such situations."
   ]
  }
 ],
 "metadata": {
  "kernelspec": {
   "display_name": "Python 3",
   "language": "python",
   "name": "python3"
  },
  "language_info": {
   "codemirror_mode": {
    "name": "ipython",
    "version": 3
   },
   "file_extension": ".py",
   "mimetype": "text/x-python",
   "name": "python",
   "nbconvert_exporter": "python",
   "pygments_lexer": "ipython3",
   "version": "3.8.5"
  }
 },
 "nbformat": 4,
 "nbformat_minor": 4
}
